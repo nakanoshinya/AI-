{
  "nbformat": 4,
  "nbformat_minor": 0,
  "metadata": {
    "colab": {
      "provenance": []
    },
    "kernelspec": {
      "name": "python3",
      "display_name": "Python 3"
    },
    "language_info": {
      "name": "python"
    }
  },
  "cells": [
    {
      "cell_type": "code",
      "source": [
        "from google.colab import drive\n",
        "drive.mount('/content/drive')"
      ],
      "metadata": {
        "colab": {
          "base_uri": "https://localhost:8080/"
        },
        "id": "pSQvCu3tXVia",
        "outputId": "465630f9-f137-4d71-8ff3-2562e8fa2fe2"
      },
      "execution_count": 2,
      "outputs": [
        {
          "output_type": "stream",
          "name": "stdout",
          "text": [
            "Drive already mounted at /content/drive; to attempt to forcibly remount, call drive.mount(\"/content/drive\", force_remount=True).\n"
          ]
        }
      ]
    },
    {
      "cell_type": "code",
      "source": [
        "!pip install feedparser gspread oauth2client"
      ],
      "metadata": {
        "colab": {
          "base_uri": "https://localhost:8080/"
        },
        "id": "iwXoLAzJXw1v",
        "outputId": "fe60e5da-1533-4637-c6a6-56bf7d384f54"
      },
      "execution_count": 3,
      "outputs": [
        {
          "output_type": "stream",
          "name": "stdout",
          "text": [
            "Requirement already satisfied: feedparser in /usr/local/lib/python3.11/dist-packages (6.0.11)\n",
            "Requirement already satisfied: gspread in /usr/local/lib/python3.11/dist-packages (6.2.0)\n",
            "Requirement already satisfied: oauth2client in /usr/local/lib/python3.11/dist-packages (4.1.3)\n",
            "Requirement already satisfied: sgmllib3k in /usr/local/lib/python3.11/dist-packages (from feedparser) (1.0.0)\n",
            "Requirement already satisfied: google-auth>=1.12.0 in /usr/local/lib/python3.11/dist-packages (from gspread) (2.38.0)\n",
            "Requirement already satisfied: google-auth-oauthlib>=0.4.1 in /usr/local/lib/python3.11/dist-packages (from gspread) (1.2.1)\n",
            "Requirement already satisfied: httplib2>=0.9.1 in /usr/local/lib/python3.11/dist-packages (from oauth2client) (0.22.0)\n",
            "Requirement already satisfied: pyasn1>=0.1.7 in /usr/local/lib/python3.11/dist-packages (from oauth2client) (0.6.1)\n",
            "Requirement already satisfied: pyasn1-modules>=0.0.5 in /usr/local/lib/python3.11/dist-packages (from oauth2client) (0.4.2)\n",
            "Requirement already satisfied: rsa>=3.1.4 in /usr/local/lib/python3.11/dist-packages (from oauth2client) (4.9)\n",
            "Requirement already satisfied: six>=1.6.1 in /usr/local/lib/python3.11/dist-packages (from oauth2client) (1.17.0)\n",
            "Requirement already satisfied: cachetools<6.0,>=2.0.0 in /usr/local/lib/python3.11/dist-packages (from google-auth>=1.12.0->gspread) (5.5.2)\n",
            "Requirement already satisfied: requests-oauthlib>=0.7.0 in /usr/local/lib/python3.11/dist-packages (from google-auth-oauthlib>=0.4.1->gspread) (2.0.0)\n",
            "Requirement already satisfied: pyparsing!=3.0.0,!=3.0.1,!=3.0.2,!=3.0.3,<4,>=2.4.2 in /usr/local/lib/python3.11/dist-packages (from httplib2>=0.9.1->oauth2client) (3.2.3)\n",
            "Requirement already satisfied: oauthlib>=3.0.0 in /usr/local/lib/python3.11/dist-packages (from requests-oauthlib>=0.7.0->google-auth-oauthlib>=0.4.1->gspread) (3.2.2)\n",
            "Requirement already satisfied: requests>=2.0.0 in /usr/local/lib/python3.11/dist-packages (from requests-oauthlib>=0.7.0->google-auth-oauthlib>=0.4.1->gspread) (2.32.3)\n",
            "Requirement already satisfied: charset-normalizer<4,>=2 in /usr/local/lib/python3.11/dist-packages (from requests>=2.0.0->requests-oauthlib>=0.7.0->google-auth-oauthlib>=0.4.1->gspread) (3.4.1)\n",
            "Requirement already satisfied: idna<4,>=2.5 in /usr/local/lib/python3.11/dist-packages (from requests>=2.0.0->requests-oauthlib>=0.7.0->google-auth-oauthlib>=0.4.1->gspread) (3.10)\n",
            "Requirement already satisfied: urllib3<3,>=1.21.1 in /usr/local/lib/python3.11/dist-packages (from requests>=2.0.0->requests-oauthlib>=0.7.0->google-auth-oauthlib>=0.4.1->gspread) (2.3.0)\n",
            "Requirement already satisfied: certifi>=2017.4.17 in /usr/local/lib/python3.11/dist-packages (from requests>=2.0.0->requests-oauthlib>=0.7.0->google-auth-oauthlib>=0.4.1->gspread) (2025.1.31)\n"
          ]
        }
      ]
    },
    {
      "cell_type": "code",
      "source": [
        "import feedparser\n",
        "import gspread\n",
        "from datetime import datetime\n",
        "from oauth2client.service_account import ServiceAccountCredentials\n",
        "\n",
        "# --- RSSフィード一覧 ---\n",
        "rss_feeds = {\n",
        "    \"Googleニュース（生成AI）\": \"https://news.google.com/rss/search?q=生成AI&hl=ja&gl=JP&ceid=JP:ja\",\n",
        "    \"The Decoder\": \"https://the-decoder.com/feed/\",\n",
        "    \"TechCrunch（AI）\": \"https://techcrunch.com/tag/generative-ai/feed/\"\n",
        "}\n",
        "\n",
        "# --- 認証ファイルのパス（Driveにアップした場所に合わせて！） ---\n",
        "cred_path = \"/content/drive/MyDrive/colabninnsyou/astute-smile-455805-a2-ee4cd5712190.json\" # ←ここだけ変更！\n",
        "\n",
        "# --- Google Sheets認証 ---\n",
        "scope = [\"https://spreadsheets.google.com/feeds\", \"https://www.googleapis.com/auth/drive\"]\n",
        "creds = ServiceAccountCredentials.from_json_keyfile_name(cred_path, scope)\n",
        "client = gspread.authorize(creds)\n",
        "sheet = client.open(\"URL自動\").sheet1  # ← スプレッドシート名に合わせて！\n",
        "\n",
        "# --- 既存URLを取得（重複チェック） ---\n",
        "existing_urls = sheet.col_values(6)  # C列 = URL列\n",
        "\n",
        "# --- RSS読み取り＆整形 ---\n",
        "new_entries = []\n",
        "\n",
        "for source, url in rss_feeds.items():\n",
        "    feed = feedparser.parse(url)\n",
        "    for entry in feed.entries:\n",
        "        title = entry.title\n",
        "        link = entry.link\n",
        "        pub_date = entry.get(\"published\", datetime.now().strftime(\"%Y-%m-%d\"))\n",
        "        media = source\n",
        "        if link in existing_urls:\n",
        "            continue\n",
        "\n",
        "        # スプレッドシート用の並び：B, F, E, A, D, C, G\n",
        "        row = [title, \"\", \"\", pub_date, media, link, \"RSS\"]\n",
        "        new_entries.append(row)\n",
        "\n",
        "# --- スプレッドシートに追記 ---\n",
        "if new_entries:\n",
        "    sheet.append_rows(new_entries, value_input_option=\"USER_ENTERED\")\n",
        "    print(f\"{len(new_entries)} 件の新しい記事を追加しました！\")\n",
        "else:\n",
        "    print(\"新しい記事はありませんでした。\")\n"
      ],
      "metadata": {
        "colab": {
          "base_uri": "https://localhost:8080/"
        },
        "id": "ziD76-4tXxw-",
        "outputId": "c840ad23-6e93-4752-8dcb-fc396239fcdf"
      },
      "execution_count": 20,
      "outputs": [
        {
          "output_type": "stream",
          "name": "stdout",
          "text": [
            "132 件の新しい記事を追加しました！\n"
          ]
        }
      ]
    },
    {
      "cell_type": "code",
      "source": [],
      "metadata": {
        "id": "4GRDDHWUZKBX"
      },
      "execution_count": 16,
      "outputs": []
    },
    {
      "cell_type": "code",
      "source": [],
      "metadata": {
        "id": "YXH3aAnTX6Xs"
      },
      "execution_count": null,
      "outputs": []
    }
  ]
}